{
 "cells": [
  {
   "cell_type": "code",
   "execution_count": 1,
   "metadata": {},
   "outputs": [
    {
     "name": "stdout",
     "output_type": "stream",
     "text": [
      "Current best: Genejic AlgoritMm\t\tGeneration:999\t\tFitness: 15\r"
     ]
    }
   ],
   "source": [
    "# 1\n",
    "from GApsource import *\n",
    "\n",
    "# 2\n",
    "target = 'Genetic Algorithm'\n",
    "\n",
    "# 3\n",
    "gene_pool = [chr(x) for x in range(65,91)]+[chr(x) for x in range(97,123)]+[chr(32)]\n",
    "\n",
    "# 4\n",
    "max_population = 100\n",
    "\n",
    "# 5\n",
    "mutation_rate = 0.07\n",
    "\n",
    "# 6\n",
    "population = init_population(max_population,gene_pool,len(target))  \n",
    "\n",
    "# 7\n",
    "def new_population(population):\n",
    "    new_pop=[]\n",
    "    for ind in population:\n",
    "        parents = select(2,population,fitness_fn)\n",
    "        parent_1,parent_2 = parents\n",
    "        child = recombine(parent_1,parent_2)\n",
    "        m_child = mutate(child,gene_pool,mutation_rate)\n",
    "        new_pop.append(m_child)\n",
    "    return new_pop\n",
    "\n",
    "# 8\n",
    "def fitness_fn(sample):\n",
    "    fitness = 0\n",
    "    for i in range(len(sample)):\n",
    "        if target[i] == sample[i]:\n",
    "            fitness+=1\n",
    "    return fitness\n",
    "# 9\n",
    "def genetic_algorithm(population,fitness_fn,gene_pool=[0,1],f_thres=None,ngen=1200,pmut=0.1):\n",
    "    for generation in range(ngen):\n",
    "        population = new_population(population)\n",
    "        current_best = max(population, key=fitness_fn)\n",
    "        \n",
    "        current_best = \"\".join(current_best)\n",
    "        print(f'Current best: {current_best}\\t\\tGeneration:{str(generation)}\\t\\tFitness: {fitness_fn(current_best)}\\r', end='')\n",
    "        \n",
    "        if fitness_fn(current_best)>=f_thres:\n",
    "            return max(population, key=fitness_fn) , generation\n",
    "    return current_best, generation\n",
    "\n",
    "# 10\n",
    "ngen = 1000\n",
    "f_thres = len(target)\n",
    "population = init_population(max_population,gene_pool,len(target))\n",
    "solution, generations = genetic_algorithm(population, fitness_fn,gene_pool,f_thres,ngen,mutation_rate)\n"
   ]
  },
  {
   "cell_type": "code",
   "execution_count": null,
   "metadata": {},
   "outputs": [],
   "source": []
  }
 ],
 "metadata": {
  "kernelspec": {
   "display_name": "Python 3",
   "language": "python",
   "name": "python3"
  },
  "language_info": {
   "codemirror_mode": {
    "name": "ipython",
    "version": 3
   },
   "file_extension": ".py",
   "mimetype": "text/x-python",
   "name": "python",
   "nbconvert_exporter": "python",
   "pygments_lexer": "ipython3",
   "version": "3.7.4"
  }
 },
 "nbformat": 4,
 "nbformat_minor": 2
}
